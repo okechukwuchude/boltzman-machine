{
 "cells": [
  {
   "cell_type": "code",
   "execution_count": 2,
   "id": "8e207212-38f8-43aa-86e5-ac6d8411b310",
   "metadata": {},
   "outputs": [],
   "source": [
    "import numpy as np\n",
    "import pandas as pd\n",
    "import torch\n",
    "import torch.nn as nn\n",
    "import torch.nn.parallel\n",
    "import torch.optim as optim\n",
    "import torch.utils.data\n",
    "from torch.autograd import Variable"
   ]
  },
  {
   "cell_type": "code",
   "execution_count": 6,
   "id": "38ce3d06-12d5-453c-8f85-3e68f2e41d37",
   "metadata": {},
   "outputs": [],
   "source": [
    "movies = pd.read_csv(r\"C:\\Users\\okechukwu chude\\Documents\\Neural Network\\boltzman-machine\\ml-1m\\movies.dat\", sep = '::', header = None, engine = 'python', encoding = 'latin-1')"
   ]
  },
  {
   "cell_type": "code",
   "execution_count": 7,
   "id": "96de12d2-6d7a-4b9e-980e-a6899120e248",
   "metadata": {},
   "outputs": [],
   "source": [
    "users = pd.read_csv(r\"C:\\Users\\okechukwu chude\\Documents\\Neural Network\\boltzman-machine\\ml-1m\\users.dat\", sep = '::', header = None, engine = 'python', encoding = 'latin-1')"
   ]
  },
  {
   "cell_type": "code",
   "execution_count": 8,
   "id": "33b3923b-2596-4561-93af-a86495911e4a",
   "metadata": {},
   "outputs": [],
   "source": [
    "ratings = pd.read_csv(r\"C:\\Users\\okechukwu chude\\Documents\\Neural Network\\boltzman-machine\\ml-1m\\ratings.dat\", sep = '::', header = None, engine = 'python', encoding = 'latin-1')"
   ]
  },
  {
   "cell_type": "code",
   "execution_count": 9,
   "id": "39d0695b-0dc5-4225-bde8-4b74b4975bb3",
   "metadata": {},
   "outputs": [],
   "source": [
    "training_set = pd.read_csv(r\"C:\\Users\\okechukwu chude\\Documents\\Neural Network\\boltzman-machine\\ml-100k\\u1.base\", delimiter = '\\t')"
   ]
  },
  {
   "cell_type": "code",
   "execution_count": 10,
   "id": "313b0af2-421e-4a8b-bf3c-741eeb6e084e",
   "metadata": {},
   "outputs": [],
   "source": [
    "training_set = np.array(training_set, dtype = 'int')"
   ]
  },
  {
   "cell_type": "code",
   "execution_count": 11,
   "id": "562918e4-bf37-473d-83b8-7dd454a7e22b",
   "metadata": {},
   "outputs": [],
   "source": [
    "test_set = pd.read_csv(r\"C:\\Users\\okechukwu chude\\Documents\\Neural Network\\boltzman-machine\\ml-100k\\u1.test\", delimiter = '\\t')\n",
    "test_set = np.array(test_set, dtype = 'int')"
   ]
  },
  {
   "cell_type": "code",
   "execution_count": null,
   "id": "1a1b1c7f-b0ba-48ed-b35e-88506ab625eb",
   "metadata": {},
   "outputs": [],
   "source": []
  }
 ],
 "metadata": {
  "kernelspec": {
   "display_name": "Python 3 (ipykernel)",
   "language": "python",
   "name": "python3"
  },
  "language_info": {
   "codemirror_mode": {
    "name": "ipython",
    "version": 3
   },
   "file_extension": ".py",
   "mimetype": "text/x-python",
   "name": "python",
   "nbconvert_exporter": "python",
   "pygments_lexer": "ipython3",
   "version": "3.11.4"
  }
 },
 "nbformat": 4,
 "nbformat_minor": 5
}
